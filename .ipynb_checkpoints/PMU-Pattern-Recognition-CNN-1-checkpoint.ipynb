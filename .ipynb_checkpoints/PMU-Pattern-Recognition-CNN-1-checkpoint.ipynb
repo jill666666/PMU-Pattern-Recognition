{
 "cells": [
  {
   "cell_type": "markdown",
   "metadata": {},
   "source": [
    "# LIBRARY IMPORT\n",
    "### 라이브러리 불러오기"
   ]
  },
  {
   "cell_type": "code",
   "execution_count": 1,
   "metadata": {},
   "outputs": [
    {
     "name": "stderr",
     "output_type": "stream",
     "text": [
      "Using TensorFlow backend.\n"
     ]
    }
   ],
   "source": [
    "from matplotlib import pyplot as plt\n",
    "%matplotlib inline\n",
    "import numpy as np\n",
    "import pandas as pd\n",
    "import seaborn as sns\n",
    "from scipy import stats\n",
    "from IPython.display import display, HTML\n",
    "\n",
    "import pymysql\n",
    "import pymysql.cursors\n",
    "\n",
    "from sklearn import metrics\n",
    "from sklearn.metrics import classification_report\n",
    "from sklearn import preprocessing\n",
    "\n",
    "import keras\n",
    "from keras.models import Sequential\n",
    "from keras.layers import Dense, Dropout, Flatten, Reshape\n",
    "from keras.layers import Conv2D, MaxPooling2D\n",
    "from keras.utils import np_utils\n",
    "\n",
    "import os\n",
    "\n",
    "os.environ['KMP_DUPLICATE_LIB_OK']='True'"
   ]
  },
  {
   "cell_type": "markdown",
   "metadata": {},
   "source": [
    "# LABELS, TIME_PERIODS, STEP_DISTANCE\n",
    "### 레이블 종류, 세그먼트 크기, 타임 스텝 크기 설정"
   ]
  },
  {
   "cell_type": "code",
   "execution_count": 2,
   "metadata": {},
   "outputs": [
    {
     "name": "stdout",
     "output_type": "stream",
     "text": [
      "('keras version ', '2.2.4')\n"
     ]
    }
   ],
   "source": [
    "# Set some standard parameters upfront\n",
    "pd.options.display.float_format = '{:.1f}'.format\n",
    "sns.set() # Default seaborn look and feel\n",
    "plt.style.use('ggplot')\n",
    "\n",
    "# Keras version indication\n",
    "print('keras version ', keras.__version__)\n",
    "\n",
    "# Set labels - LABELS\n",
    "LABELS = ['branch_trip',\n",
    "            'line_fault',\n",
    "            'shunt_loss',\n",
    "            'gen_loss',\n",
    "            'load_loss',\n",
    "            'vref']\n",
    "\n",
    "# Timestamps per segment\n",
    "TIME_PERIODS = 1000\n",
    "\n",
    "# Steps when sliding to one segment to another (Sliding window)\n",
    "STEP_DISTANCE = 100\n",
    "\n",
    "# TIME_PERIODS = 1000, STEP_DISTANCE = 100, => overlapping timestamps = 900\n",
    "# TIME_PERIODS = 1000, STEP_DISTANCE = 1000 => no overlapping timestamps"
   ]
  },
  {
   "cell_type": "markdown",
   "metadata": {},
   "source": [
    "# SQL DATABASE\n",
    "### Retrieve input data from MySQL database"
   ]
  },
  {
   "cell_type": "code",
   "execution_count": 3,
   "metadata": {},
   "outputs": [
    {
     "name": "stderr",
     "output_type": "stream",
     "text": [
      "IOPub data rate exceeded.\n",
      "The notebook server will temporarily stop sending output\n",
      "to the client in order to avoid crashing it.\n",
      "To change this limit, set the config variable\n",
      "`--NotebookApp.iopub_data_rate_limit`.\n",
      "\n",
      "Current values:\n",
      "NotebookApp.iopub_data_rate_limit=1000000.0 (bytes/sec)\n",
      "NotebookApp.rate_limit_window=3.0 (secs)\n",
      "\n"
     ]
    }
   ],
   "source": [
    "# Connect database\n",
    "connection = pymysql.connect(host='localhost',\n",
    "                             user='root',  # MySQL user ID (보통 'root')\n",
    "                             password='Vansoff6',  # MySQL user password\n",
    "                             db='sys',\n",
    "                             charset='utf8mb4',\n",
    "                             cursorclass=pymysql.cursors.DictCursor)\n",
    "\n",
    "cursor = connection.cursor()\n",
    "sql = \"SELECT * from sys.PMU\"  # Retrieve every data(*) from'PMU' table\n",
    "cursor.execute(sql)\n",
    "\n",
    "result = cursor.fetchall()\n",
    "connection.close()\n",
    "print(result)\n",
    "\n",
    "# Declare/store retrieved data as a dataframe format - df\n",
    "df = pd.DataFrame(result)\n",
    "\n",
    "# Reindex dataframe input column\n",
    "df = df.reindex(columns=['timestamp','accident','voltage','frequency'])"
   ]
  },
  {
   "cell_type": "markdown",
   "metadata": {},
   "source": [
    "# SHUFFLING\n",
    "### Data Random Shuffle\n",
    "Labeled data should be distributed randomly in order to evade bias.\n",
    "Each training, test and validation data should contain unbiased labeled data to improve the performance."
   ]
  },
  {
   "cell_type": "code",
   "execution_count": 4,
   "metadata": {},
   "outputs": [],
   "source": [
    "# Convert input data to 3D array and shuffle\n",
    "arr_3D = df.values.reshape(-1,1000,df.shape[1])\n",
    "shuffle_idx = np.random.permutation(arr_3D.shape[0])\n",
    "df = arr_3D[shuffle_idx]"
   ]
  },
  {
   "cell_type": "code",
   "execution_count": 5,
   "metadata": {
    "scrolled": false
   },
   "outputs": [],
   "source": [
    "m,n,r = df.shape\n",
    "out_arr = np.column_stack((np.repeat(np.arange(m),n),df.reshape(m*n,-1)))\n",
    "df = pd.DataFrame(out_arr, columns=['n','timestamp','accident','voltage','frequency'])\n",
    "df = df.drop(columns=['n'])"
   ]
  },
  {
   "cell_type": "code",
   "execution_count": 6,
   "metadata": {},
   "outputs": [
    {
     "data": {
      "text/html": [
       "<div>\n",
       "<style scoped>\n",
       "    .dataframe tbody tr th:only-of-type {\n",
       "        vertical-align: middle;\n",
       "    }\n",
       "\n",
       "    .dataframe tbody tr th {\n",
       "        vertical-align: top;\n",
       "    }\n",
       "\n",
       "    .dataframe thead th {\n",
       "        text-align: right;\n",
       "    }\n",
       "</style>\n",
       "<table border=\"1\" class=\"dataframe\">\n",
       "  <thead>\n",
       "    <tr style=\"text-align: right;\">\n",
       "      <th></th>\n",
       "      <th>timestamp</th>\n",
       "      <th>accident</th>\n",
       "      <th>voltage</th>\n",
       "      <th>frequency</th>\n",
       "    </tr>\n",
       "  </thead>\n",
       "  <tbody>\n",
       "    <tr>\n",
       "      <th>11559990</th>\n",
       "      <td>990</td>\n",
       "      <td>shunt_loss</td>\n",
       "      <td>0.9</td>\n",
       "      <td>-0.0</td>\n",
       "    </tr>\n",
       "    <tr>\n",
       "      <th>11559991</th>\n",
       "      <td>991</td>\n",
       "      <td>shunt_loss</td>\n",
       "      <td>0.9</td>\n",
       "      <td>-0.0</td>\n",
       "    </tr>\n",
       "    <tr>\n",
       "      <th>11559992</th>\n",
       "      <td>992</td>\n",
       "      <td>shunt_loss</td>\n",
       "      <td>0.9</td>\n",
       "      <td>-0.0</td>\n",
       "    </tr>\n",
       "    <tr>\n",
       "      <th>11559993</th>\n",
       "      <td>993</td>\n",
       "      <td>shunt_loss</td>\n",
       "      <td>0.9</td>\n",
       "      <td>-0.0</td>\n",
       "    </tr>\n",
       "    <tr>\n",
       "      <th>11559994</th>\n",
       "      <td>994</td>\n",
       "      <td>shunt_loss</td>\n",
       "      <td>0.9</td>\n",
       "      <td>-0.0</td>\n",
       "    </tr>\n",
       "    <tr>\n",
       "      <th>11559995</th>\n",
       "      <td>995</td>\n",
       "      <td>shunt_loss</td>\n",
       "      <td>0.9</td>\n",
       "      <td>-0.0</td>\n",
       "    </tr>\n",
       "    <tr>\n",
       "      <th>11559996</th>\n",
       "      <td>996</td>\n",
       "      <td>shunt_loss</td>\n",
       "      <td>0.9</td>\n",
       "      <td>-0.0</td>\n",
       "    </tr>\n",
       "    <tr>\n",
       "      <th>11559997</th>\n",
       "      <td>997</td>\n",
       "      <td>shunt_loss</td>\n",
       "      <td>0.9</td>\n",
       "      <td>-0.0</td>\n",
       "    </tr>\n",
       "    <tr>\n",
       "      <th>11559998</th>\n",
       "      <td>998</td>\n",
       "      <td>shunt_loss</td>\n",
       "      <td>0.9</td>\n",
       "      <td>-0.0</td>\n",
       "    </tr>\n",
       "    <tr>\n",
       "      <th>11559999</th>\n",
       "      <td>999</td>\n",
       "      <td>shunt_loss</td>\n",
       "      <td>0.9</td>\n",
       "      <td>-0.0</td>\n",
       "    </tr>\n",
       "  </tbody>\n",
       "</table>\n",
       "</div>"
      ],
      "text/plain": [
       "         timestamp    accident voltage frequency\n",
       "11559990       990  shunt_loss     0.9      -0.0\n",
       "11559991       991  shunt_loss     0.9      -0.0\n",
       "11559992       992  shunt_loss     0.9      -0.0\n",
       "11559993       993  shunt_loss     0.9      -0.0\n",
       "11559994       994  shunt_loss     0.9      -0.0\n",
       "11559995       995  shunt_loss     0.9      -0.0\n",
       "11559996       996  shunt_loss     0.9      -0.0\n",
       "11559997       997  shunt_loss     0.9      -0.0\n",
       "11559998       998  shunt_loss     0.9      -0.0\n",
       "11559999       999  shunt_loss     0.9      -0.0"
      ]
     },
     "execution_count": 6,
     "metadata": {},
     "output_type": "execute_result"
    }
   ],
   "source": [
    "# Print last 10 rows of input data\n",
    "df.tail(10)"
   ]
  },
  {
   "cell_type": "code",
   "execution_count": 7,
   "metadata": {
    "scrolled": true
   },
   "outputs": [
    {
     "data": {
      "image/png": "[encoded data removed]",
      "text/plain": [
       "<Figure size 432x288 with 1 Axes>"
      ]
     },
     "metadata": {},
     "output_type": "display_data"
    }
   ],
   "source": [
    "# Print data quantity according to label type\n",
    "df['accident'].value_counts().plot(kind='bar',\n",
    "                                   title='Training Examples by Label Type')\n",
    "plt.show()"
   ]
  },
  {
   "cell_type": "code",
   "execution_count": 8,
   "metadata": {
    "scrolled": false
   },
   "outputs": [
    {
     "data": {
      "text/plain": [
       "Text(0,0.5,'value')"
      ]
     },
     "execution_count": 8,
     "metadata": {},
     "output_type": "execute_result"
    },
    {
     "data": {
      "text/plain": [
       "<Figure size 432x288 with 0 Axes>"
      ]
     },
     "metadata": {},
     "output_type": "display_data"
    },
    {
     "data": {
      "image/png": "[encoded data removed]",
      "text/plain": [
       "<Figure size 720x216 with 1 Axes>"
      ]
     },
     "metadata": {},
     "output_type": "display_data"
    },
    {
     "data": {
      "image/png": "[encoded data removed]",
      "text/plain": [
       "<Figure size 720x216 with 1 Axes>"
      ]
     },
     "metadata": {},
     "output_type": "display_data"
    }
   ],
   "source": [
    "# Print voltage data graph of 1000 timestamps\n",
    "plt.figure(1)\n",
    "plt.subplots(figsize=(10, 3))\n",
    "plt.plot(df['voltage'][:1000], 'g')\n",
    "plt.title('voltage')\n",
    "plt.xlabel('timestamp')\n",
    "plt.ylabel('value')\n",
    "\n",
    "# Print frequency data graph of 1000 timestamps\n",
    "plt.figure(2)\n",
    "plt.subplots(figsize=(10, 3))\n",
    "plt.plot(df['frequency'][:1000], 'r')\n",
    "plt.title('frequency')\n",
    "plt.xlabel('timestamp')\n",
    "plt.ylabel('value')"
   ]
  },
  {
   "cell_type": "markdown",
   "metadata": {},
   "source": [
    "# LABEL ENCODING\n",
    "### 레이블 인코딩 단계\n",
    "\n",
    "ex) if branch_trip, label = 0, if shunt_loss, label = 1 etc. The value the machine can recognize."
   ]
  },
  {
   "cell_type": "code",
   "execution_count": 9,
   "metadata": {},
   "outputs": [],
   "source": [
    "LABEL = 'ActivityEncoded'\n",
    "# Transform the labels from String to Integer via LabelEncoder\n",
    "le = preprocessing.LabelEncoder()\n",
    "# Add a new column to the existing DataFrame with the encoded values\n",
    "df[LABEL] = le.fit_transform(df['accident'].values.ravel())"
   ]
  },
  {
   "cell_type": "markdown",
   "metadata": {},
   "source": [
    "# TRAINING/TEST DATA DIVISION\n",
    "### 트레이닝/테스트 데이터 분할\n",
    "\n",
    "As for this model, train_size = 80%, test_size = 20%"
   ]
  },
  {
   "cell_type": "code",
   "execution_count": 10,
   "metadata": {},
   "outputs": [
    {
     "name": "stdout",
     "output_type": "stream",
     "text": [
      "(9248000, 5)\n",
      "(2312000, 5)\n"
     ]
    }
   ],
   "source": [
    "# train_size = 80%, test_size = total - train_size = 20%\n",
    "train_size = len(df) // 10 * 8\n",
    "test_size = len(df) - train_size\n",
    "\n",
    "# Trainig dataset = df_train\n",
    "# Test dataset = df_test\n",
    "df_train = df[0:train_size]\n",
    "df_test = df[train_size:len(df)]\n",
    "\n",
    "print(df_train.shape)\n",
    "print(df_test.shape)"
   ]
  },
  {
   "cell_type": "code",
   "execution_count": 11,
   "metadata": {},
   "outputs": [
    {
     "data": {
      "text/plain": [
       "0.0105575"
      ]
     },
     "execution_count": 11,
     "metadata": {},
     "output_type": "execute_result"
    }
   ],
   "source": [
    "# Max. frequency data\n",
    "# As for Max.voltage data -> type 'df['voltage'].max()'\n",
    "df['frequency'].max()"
   ]
  },
  {
   "cell_type": "markdown",
   "metadata": {},
   "source": [
    "# NORMALIZATION(STANDARDIZATION)\n",
    "### 정규화(표준화)\n",
    "\n",
    "Rescaling process such as normalization prevent from generating noise data.\n",
    "\n",
    "'voltage' max value was approx. 1.2\n",
    "'frequency' max value was approx. 0.009\n",
    "=> Divide by each max value"
   ]
  },
  {
   "cell_type": "code",
   "execution_count": 12,
   "metadata": {},
   "outputs": [
    {
     "data": {
      "text/html": [
       "<div>\n",
       "<style scoped>\n",
       "    .dataframe tbody tr th:only-of-type {\n",
       "        vertical-align: middle;\n",
       "    }\n",
       "\n",
       "    .dataframe tbody tr th {\n",
       "        vertical-align: top;\n",
       "    }\n",
       "\n",
       "    .dataframe thead th {\n",
       "        text-align: right;\n",
       "    }\n",
       "</style>\n",
       "<table border=\"1\" class=\"dataframe\">\n",
       "  <thead>\n",
       "    <tr style=\"text-align: right;\">\n",
       "      <th></th>\n",
       "      <th>timestamp</th>\n",
       "      <th>accident</th>\n",
       "      <th>voltage</th>\n",
       "      <th>frequency</th>\n",
       "      <th>ActivityEncoded</th>\n",
       "    </tr>\n",
       "  </thead>\n",
       "  <tbody>\n",
       "    <tr>\n",
       "      <th>11559995</th>\n",
       "      <td>995</td>\n",
       "      <td>shunt_loss</td>\n",
       "      <td>0.8</td>\n",
       "      <td>-0.0</td>\n",
       "      <td>4</td>\n",
       "    </tr>\n",
       "    <tr>\n",
       "      <th>11559996</th>\n",
       "      <td>996</td>\n",
       "      <td>shunt_loss</td>\n",
       "      <td>0.8</td>\n",
       "      <td>-0.0</td>\n",
       "      <td>4</td>\n",
       "    </tr>\n",
       "    <tr>\n",
       "      <th>11559997</th>\n",
       "      <td>997</td>\n",
       "      <td>shunt_loss</td>\n",
       "      <td>0.8</td>\n",
       "      <td>-0.0</td>\n",
       "      <td>4</td>\n",
       "    </tr>\n",
       "    <tr>\n",
       "      <th>11559998</th>\n",
       "      <td>998</td>\n",
       "      <td>shunt_loss</td>\n",
       "      <td>0.8</td>\n",
       "      <td>-0.0</td>\n",
       "      <td>4</td>\n",
       "    </tr>\n",
       "    <tr>\n",
       "      <th>11559999</th>\n",
       "      <td>999</td>\n",
       "      <td>shunt_loss</td>\n",
       "      <td>0.8</td>\n",
       "      <td>-0.0</td>\n",
       "      <td>4</td>\n",
       "    </tr>\n",
       "  </tbody>\n",
       "</table>\n",
       "</div>"
      ],
      "text/plain": [
       "         timestamp    accident voltage frequency  ActivityEncoded\n",
       "11559995       995  shunt_loss     0.8      -0.0                4\n",
       "11559996       996  shunt_loss     0.8      -0.0                4\n",
       "11559997       997  shunt_loss     0.8      -0.0                4\n",
       "11559998       998  shunt_loss     0.8      -0.0                4\n",
       "11559999       999  shunt_loss     0.8      -0.0                4"
      ]
     },
     "execution_count": 12,
     "metadata": {},
     "output_type": "execute_result"
    }
   ],
   "source": [
    "# Normalize all the training dataset to value from 0 to 1\n",
    "# Surpress warning for next 3 operation\n",
    "pd.options.mode.chained_assignment = None  # default='warn'\n",
    "df['voltage'] = df['voltage'] / 1.21\n",
    "df['frequency'] = df['frequency'] / 0.01\n",
    "\n",
    "# Round numbers - % decimal point\n",
    "df = df.round({'voltage': 4, 'frequency': 4})\n",
    "df.tail(5)"
   ]
  },
  {
   "cell_type": "code",
   "execution_count": 13,
   "metadata": {},
   "outputs": [
    {
     "data": {
      "text/plain": [
       "1.05575"
      ]
     },
     "execution_count": 13,
     "metadata": {},
     "output_type": "execute_result"
    }
   ],
   "source": [
    "# Print max frequency data after normalization\n",
    "df['frequency'].max()"
   ]
  },
  {
   "cell_type": "code",
   "execution_count": 14,
   "metadata": {},
   "outputs": [
    {
     "data": {
      "text/plain": [
       "Text(0,0.5,'value')"
      ]
     },
     "execution_count": 14,
     "metadata": {},
     "output_type": "execute_result"
    },
    {
     "data": {
      "text/plain": [
       "<Figure size 432x288 with 0 Axes>"
      ]
     },
     "metadata": {},
     "output_type": "display_data"
    },
    {
     "data": {
      "image/png": "[encoded data removed]",
      "text/plain": [
       "<Figure size 720x216 with 1 Axes>"
      ]
     },
     "metadata": {},
     "output_type": "display_data"
    }
   ],
   "source": [
    "# Print time-series data of 1000 timestamps after normalization\n",
    "plt.figure(1)\n",
    "plt.subplots(figsize=(10, 3))\n",
    "plt.plot(df['voltage'][:1000], 'g')\n",
    "plt.title('after_regularization')\n",
    "plt.xlabel('timestamp')\n",
    "plt.ylabel('value')"
   ]
  },
  {
   "cell_type": "markdown",
   "metadata": {},
   "source": [
    "# CREATE SEGMENTS AND LABELS\n",
    "### 세그먼트 및 레이블 생성\n",
    "\n",
    "Since we set TIME_PERIODS to 1000, STEP_DISTANCE to 100, each segment has the voltage and frequency data of 1000 timestamps."
   ]
  },
  {
   "cell_type": "code",
   "execution_count": 15,
   "metadata": {},
   "outputs": [],
   "source": [
    "# Create time segment\n",
    "def create_segments_and_labels(df, time_steps, step, label_name):\n",
    "\n",
    "    # number of features\n",
    "    N_FEATURES = 2\n",
    "\n",
    "    # Declare segments and labels\n",
    "    segments = []\n",
    "    labels = []\n",
    "    \n",
    "    # Time segment length TIME_PERIODS = 1000\n",
    "    # Time segment gap STEP_DISTANCE = 100 (Overlapping distance = 1000 - 100 = 900)\n",
    "    # 1 Segment equals voltage and frequency data of 1000 timestamps\n",
    "    # Shape of one segment equals (2,1000)\n",
    "    for i in range(0, len(df) - time_steps, step):\n",
    "        xs = df['voltage'].values[i: i + time_steps]\n",
    "        ys = df['frequency'].values[i: i + time_steps]\n",
    "        # Retrieve the most often used label in this segment\n",
    "        label = stats.mode(df[label_name][i: i + time_steps])[0][0]\n",
    "        segments.append([xs, ys])\n",
    "        labels.append(label)\n",
    "\n",
    "    # Bring the segments into a better shape\n",
    "    reshaped_segments = np.asarray(segments, dtype= np.float32).reshape(-1, time_steps, N_FEATURES)\n",
    "    labels = np.asarray(labels)\n",
    "\n",
    "    return reshaped_segments, labels\n",
    "\n",
    "# create_segments_and_labels(input dataset, time segment length(1000), segment step distance(100), labels(6))\n",
    "# Original input column ['timestamp','accident','voltage','frequency']\n",
    "# y_train gets ['accident']\n",
    "# x_train gets ['voltage','frequency'] - feature values\n",
    "x_train, y_train = create_segments_and_labels(df_train,\n",
    "                                              TIME_PERIODS,\n",
    "                                              STEP_DISTANCE,\n",
    "                                              LABEL)"
   ]
  },
  {
   "cell_type": "code",
   "execution_count": 16,
   "metadata": {},
   "outputs": [
    {
     "name": "stdout",
     "output_type": "stream",
     "text": [
      "('x_train shape: ', (92470, 1000, 2))\n",
      "(92470, 'training samples')\n",
      "('y_train shape: ', (92470,))\n"
     ]
    }
   ],
   "source": [
    "# Print x_train and y_train shapes\n",
    "print('x_train shape: ', x_train.shape)\n",
    "print(x_train.shape[0], 'training samples')\n",
    "print('y_train shape: ', y_train.shape)"
   ]
  },
  {
   "cell_type": "code",
   "execution_count": 17,
   "metadata": {},
   "outputs": [
    {
     "name": "stdout",
     "output_type": "stream",
     "text": [
      "[u'branch_trip', u'gen_loss', u'line_fault', u'load_loss', u'shunt_loss', u'vref']\n"
     ]
    }
   ],
   "source": [
    "# num_time_periods = 1000, num_sensors = 2\n",
    "# Print label-encoded 6 accident types\n",
    "num_time_periods, num_sensors = x_train.shape[1], x_train.shape[2]\n",
    "num_classes = le.classes_.size\n",
    "print(list(le.classes_))"
   ]
  },
  {
   "cell_type": "code",
   "execution_count": 18,
   "metadata": {},
   "outputs": [
    {
     "name": "stdout",
     "output_type": "stream",
     "text": [
      "('x_train shape:', (92470, 2000))\n",
      "('input_shape:', 2000)\n",
      "2\n"
     ]
    }
   ],
   "source": [
    "#num_sensors(number of features) = 2, num_time_periods = TIME_PERIODS = 1000\n",
    "input_shape = (num_time_periods*num_sensors)\n",
    "x_train = x_train.reshape(x_train.shape[0], input_shape)\n",
    "print('x_train shape:', x_train.shape)\n",
    "print('input_shape:', input_shape)\n",
    "print(num_sensors)"
   ]
  },
  {
   "cell_type": "code",
   "execution_count": 19,
   "metadata": {},
   "outputs": [],
   "source": [
    "# Convert to 'float32' type\n",
    "x_train = x_train.astype('float32')\n",
    "y_train = y_train.astype('float32')"
   ]
  },
  {
   "cell_type": "code",
   "execution_count": 20,
   "metadata": {},
   "outputs": [
    {
     "name": "stdout",
     "output_type": "stream",
     "text": [
      "('New y_train shape: ', (92470, 6))\n"
     ]
    }
   ],
   "source": [
    "# Convert class vector to binary class matrix (Sort of one-hot encoding)\n",
    "y_train_hot = np_utils.to_categorical(y_train, num_classes)\n",
    "print('New y_train shape: ', y_train_hot.shape)"
   ]
  },
  {
   "cell_type": "markdown",
   "metadata": {},
   "source": [
    "# CNN MODELING\n",
    "### CNN 모델 구성\n",
    "\n",
    "1. Total 3 Dense Layer\n",
    "2. Apply softmax activation function\n",
    "3. Dropout rate = 0.2\n",
    "4. Model training purpose = 'cetegorical_crossentropy'\n",
    "5. Enable EarlyStopping -> if (previous epoch > current epoch) break\n",
    "6. Hyperparameter tuning: Batch size = 200 to 300, Epoch(training) = 15 to 25\n",
    "7. Validation split 0.2 -> Data validation for measuring model accuracy"
   ]
  },
  {
   "cell_type": "code",
   "execution_count": 21,
   "metadata": {},
   "outputs": [
    {
     "name": "stdout",
     "output_type": "stream",
     "text": [
      "WARNING:tensorflow:From /anaconda3/envs/tensorflow_env/lib/python2.7/site-packages/tensorflow/python/framework/op_def_library.py:263: colocate_with (from tensorflow.python.framework.ops) is deprecated and will be removed in a future version.\n",
      "Instructions for updating:\n",
      "Colocations handled automatically by placer.\n",
      "WARNING:tensorflow:From /anaconda3/envs/tensorflow_env/lib/python2.7/site-packages/keras/backend/tensorflow_backend.py:3445: calling dropout (from tensorflow.python.ops.nn_ops) with keep_prob is deprecated and will be removed in a future version.\n",
      "Instructions for updating:\n",
      "Please use `rate` instead of `keep_prob`. Rate should be set to `rate = 1 - keep_prob`.\n",
      "_________________________________________________________________\n",
      "Layer (type)                 Output Shape              Param #   \n",
      "=================================================================\n",
      "reshape_1 (Reshape)          (None, 1000, 2)           0         \n",
      "_________________________________________________________________\n",
      "dense_1 (Dense)              (None, 1000, 100)         300       \n",
      "_________________________________________________________________\n",
      "dense_2 (Dense)              (None, 1000, 100)         10100     \n",
      "_________________________________________________________________\n",
      "flatten_1 (Flatten)          (None, 100000)            0         \n",
      "_________________________________________________________________\n",
      "dropout_1 (Dropout)          (None, 100000)            0         \n",
      "_________________________________________________________________\n",
      "dense_3 (Dense)              (None, 6)                 600006    \n",
      "=================================================================\n",
      "Total params: 610,406\n",
      "Trainable params: 610,406\n",
      "Non-trainable params: 0\n",
      "_________________________________________________________________\n",
      "None\n"
     ]
    }
   ],
   "source": [
    "# CNN Model tuning\n",
    "model_m = Sequential()\n",
    "model_m.add(Reshape((TIME_PERIODS, 2), input_shape=(input_shape,)))\n",
    "model_m.add(Dense(100, activation='relu')) # shape (*, 100) / dense layer 1\n",
    "model_m.add(Dense(100, activation='relu')) # shape (*, 100) / dense layer 2\n",
    "model_m.add(Flatten())\n",
    "model_m.add(Dropout(0.2)) # Dropout 0.2\n",
    "model_m.add(Dense(num_classes, activation='softmax')) # softmax activation function / dense layer 3\n",
    "\n",
    "print(model_m.summary())"
   ]
  },
  {
   "cell_type": "code",
   "execution_count": 22,
   "metadata": {
    "scrolled": false
   },
   "outputs": [
    {
     "name": "stdout",
     "output_type": "stream",
     "text": [
      "WARNING:tensorflow:From /anaconda3/envs/tensorflow_env/lib/python2.7/site-packages/tensorflow/python/ops/math_ops.py:3066: to_int32 (from tensorflow.python.ops.math_ops) is deprecated and will be removed in a future version.\n",
      "Instructions for updating:\n",
      "Use tf.cast instead.\n",
      "Train on 73976 samples, validate on 18494 samples\n",
      "Epoch 1/20\n",
      "73976/73976 [==============================] - 557s 8ms/step - loss: 1.0363 - acc: 0.5869 - val_loss: 0.7529 - val_acc: 0.7029\n",
      "Epoch 2/20\n",
      "73976/73976 [==============================] - 542s 7ms/step - loss: 0.6359 - acc: 0.7606 - val_loss: 0.5433 - val_acc: 0.7763\n",
      "Epoch 3/20\n",
      "73976/73976 [==============================] - 534s 7ms/step - loss: 0.5103 - acc: 0.8059 - val_loss: 0.4570 - val_acc: 0.8196\n",
      "Epoch 4/20\n",
      "73976/73976 [==============================] - 532s 7ms/step - loss: 0.4509 - acc: 0.8265 - val_loss: 0.4080 - val_acc: 0.8543\n",
      "Epoch 5/20\n",
      "73976/73976 [==============================] - 533s 7ms/step - loss: 0.4022 - acc: 0.8459 - val_loss: 0.3659 - val_acc: 0.8673\n",
      "Epoch 6/20\n",
      "73976/73976 [==============================] - 533s 7ms/step - loss: 0.3704 - acc: 0.8605 - val_loss: 0.3521 - val_acc: 0.8700\n",
      "Epoch 7/20\n",
      "73976/73976 [==============================] - 532s 7ms/step - loss: 0.3480 - acc: 0.8706 - val_loss: 0.3048 - val_acc: 0.8929\n",
      "Epoch 8/20\n",
      "73976/73976 [==============================] - 533s 7ms/step - loss: 0.3264 - acc: 0.8776 - val_loss: 0.2979 - val_acc: 0.8822\n",
      "Epoch 9/20\n",
      "73976/73976 [==============================] - 540s 7ms/step - loss: 0.3051 - acc: 0.8890 - val_loss: 0.2867 - val_acc: 0.8926\n",
      "Epoch 10/20\n",
      "73976/73976 [==============================] - 532s 7ms/step - loss: 0.3026 - acc: 0.8892 - val_loss: 0.3249 - val_acc: 0.8703\n",
      "Epoch 11/20\n",
      "73976/73976 [==============================] - 533s 7ms/step - loss: 0.2941 - acc: 0.8909 - val_loss: 0.2654 - val_acc: 0.9097\n",
      "Epoch 12/20\n",
      "73976/73976 [==============================] - 533s 7ms/step - loss: 0.2782 - acc: 0.8968 - val_loss: 0.2504 - val_acc: 0.9060\n",
      "Epoch 13/20\n",
      "73976/73976 [==============================] - 537s 7ms/step - loss: 0.2687 - acc: 0.9008 - val_loss: 0.2440 - val_acc: 0.9165\n",
      "Epoch 14/20\n",
      "73976/73976 [==============================] - 532s 7ms/step - loss: 0.2576 - acc: 0.9038 - val_loss: 0.2208 - val_acc: 0.9200\n",
      "Epoch 15/20\n",
      "73976/73976 [==============================] - 531s 7ms/step - loss: 0.2518 - acc: 0.9077 - val_loss: 0.2220 - val_acc: 0.9215\n",
      "Epoch 16/20\n",
      "73976/73976 [==============================] - 532s 7ms/step - loss: 0.2442 - acc: 0.9105 - val_loss: 0.2072 - val_acc: 0.9273\n",
      "Epoch 17/20\n",
      "73976/73976 [==============================] - 531s 7ms/step - loss: 0.2447 - acc: 0.9098 - val_loss: 0.2228 - val_acc: 0.9103\n"
     ]
    }
   ],
   "source": [
    "callbacks_list = [\n",
    "    keras.callbacks.ModelCheckpoint(\n",
    "        filepath='best_model.{epoch:02d}-{val_loss:.2f}.h5',\n",
    "        monitor='val_loss', save_best_only=True),\n",
    "    keras.callbacks.EarlyStopping(monitor='acc', patience=1)\n",
    "] # Early Stopping method\n",
    "\n",
    "model_m.compile(loss='categorical_crossentropy',\n",
    "                optimizer='adam', metrics=['accuracy'])\n",
    "\n",
    "# Hyperparameter tuning\n",
    "BATCH_SIZE = 300 # Set batch size\n",
    "EPOCHS = 20 # Set epoch size\n",
    "\n",
    "# Enable validation to use ModelCheckpoint and EarlyStopping callbacks.\n",
    "history = model_m.fit(x_train,\n",
    "                      y_train_hot,\n",
    "                      \n",
    "                      batch_size=BATCH_SIZE,\n",
    "                      epochs=EPOCHS,\n",
    "                      callbacks=callbacks_list,\n",
    "                      validation_split=0.2,  # Validation split 20% from total data\n",
    "                      verbose=1) #"
   ]
  },
  {
   "cell_type": "markdown",
   "metadata": {},
   "source": [
    "# ACCURACY MEASUREMENT\n",
    "### 정확도 측정\n",
    "\n",
    "Lesser the loss of training and validation data, higher the performance of model has."
   ]
  },
  {
   "cell_type": "code",
   "execution_count": 23,
   "metadata": {},
   "outputs": [
    {
     "data": {
      "image/png": "[encoded data removed]",
      "text/plain": [
       "<Figure size 432x288 with 1 Axes>"
      ]
     },
     "metadata": {},
     "output_type": "display_data"
    },
    {
     "name": "stdout",
     "output_type": "stream",
     "text": [
      "              precision    recall  f1-score   support\n",
      "\n",
      "         0.0       0.77      0.91      0.83     16403\n",
      "         1.0       0.99      0.99      0.99     15917\n",
      "         2.0       0.93      0.91      0.92     15393\n",
      "         3.0       0.98      0.86      0.91     15219\n",
      "         4.0       0.95      0.98      0.97     15458\n",
      "         5.0       0.91      0.82      0.86     14080\n",
      "\n",
      "   micro avg       0.91      0.91      0.91     92470\n",
      "   macro avg       0.92      0.91      0.91     92470\n",
      "weighted avg       0.92      0.91      0.91     92470\n",
      "\n"
     ]
    }
   ],
   "source": [
    "# Visualize accuracy of training and validation data as epoch size increases\n",
    "plt.figure(figsize=(6, 4))\n",
    "plt.plot(history.history['acc'], 'r', label='Accuracy of training data')\n",
    "plt.plot(history.history['val_acc'], 'b', label='Accuracy of validation data')\n",
    "plt.plot(history.history['loss'], 'r--', label='Loss of training data')\n",
    "plt.plot(history.history['val_loss'], 'b--', label='Loss of validation data')\n",
    "plt.title('Model Accuracy and Loss')\n",
    "plt.ylabel('Accuracy and Loss')\n",
    "plt.xlabel('Training Epoch')\n",
    "plt.ylim(0)\n",
    "plt.legend()\n",
    "plt.show()\n",
    "\n",
    "# Print classfication result\n",
    "# Print confusion matrix for training data\n",
    "y_pred_train = model_m.predict(x_train)\n",
    "# Take the class with the highest probability from the train predictions\n",
    "max_y_pred_train = np.argmax(y_pred_train, axis=1)\n",
    "print(classification_report(y_train, max_y_pred_train))"
   ]
  },
  {
   "cell_type": "code",
   "execution_count": 24,
   "metadata": {},
   "outputs": [
    {
     "name": "stdout",
     "output_type": "stream",
     "text": [
      "23110/23110 [==============================] - 47s 2ms/step\n",
      "\n",
      "Accuracy on test data: 0.91\n",
      "\n",
      "Loss on test data: 0.22\n"
     ]
    }
   ],
   "source": [
    "# Create time segment again for test dataset\n",
    "x_test, y_test = create_segments_and_labels(df_test,\n",
    "                                            TIME_PERIODS,\n",
    "                                            STEP_DISTANCE,\n",
    "                                            LABEL)\n",
    "\n",
    "# Reshape test dataset\n",
    "# Set input_shape / reshape for Keras\n",
    "x_test = x_test.reshape(x_test.shape[0], input_shape)\n",
    "\n",
    "# Convert dataset to float32 type\n",
    "x_test = x_test.astype('float32')\n",
    "y_test = y_test.astype('float32')\n",
    "\n",
    "# Measure model performance by comparing trained model with test dataset\n",
    "y_test = np_utils.to_categorical(y_test, num_classes)\n",
    "\n",
    "score = model_m.evaluate(x_test, y_test, verbose=1)\n",
    "\n",
    "print('\\nAccuracy on test data: %0.2f' % score[1])\n",
    "print('\\nLoss on test data: %0.2f' % score[0])"
   ]
  },
  {
   "cell_type": "code",
   "execution_count": 25,
   "metadata": {},
   "outputs": [
    {
     "data": {
      "text/plain": [
       "array([[ 8.4710741e-01,  8.4710741e-01,  8.4710741e-01, ...,\n",
       "         1.9513100e-02,  1.9528801e-02,  1.9544899e-02],\n",
       "       [ 8.4710741e-01,  8.4710741e-01,  8.4710741e-01, ...,\n",
       "         1.2067500e-07,  9.0506099e-08,  1.8645900e-07],\n",
       "       [ 8.4710741e-01,  8.4710741e-01,  8.4710741e-01, ...,\n",
       "        -3.9960099e-08,  8.8609603e-08,  6.6457197e-08],\n",
       "       ...,\n",
       "       [ 7.8967935e-01,  7.8967935e-01,  7.8967935e-01, ...,\n",
       "        -9.8297501e-04, -9.8387699e-04, -9.8467199e-04],\n",
       "       [ 7.8967935e-01,  7.8967935e-01,  7.8967935e-01, ...,\n",
       "        -1.2229700e-03, -1.2261200e-03, -1.2295600e-03],\n",
       "       [ 7.8967935e-01,  7.8967935e-01,  7.8967935e-01, ...,\n",
       "        -1.4001700e-03, -1.4008899e-03, -1.4016600e-03]], dtype=float32)"
      ]
     },
     "execution_count": 25,
     "metadata": {},
     "output_type": "execute_result"
    }
   ],
   "source": [
    "# Print test dataset\n",
    "x_test"
   ]
  },
  {
   "cell_type": "code",
   "execution_count": 26,
   "metadata": {
    "scrolled": false
   },
   "outputs": [
    {
     "data": {
      "image/png": "[encoded data removed]",
      "text/plain": [
       "<Figure size 432x288 with 2 Axes>"
      ]
     },
     "metadata": {},
     "output_type": "display_data"
    },
    {
     "name": "stdout",
     "output_type": "stream",
     "text": [
      "              precision    recall  f1-score   support\n",
      "\n",
      "           0       0.76      0.89      0.82      4243\n",
      "           1       0.98      0.99      0.99      4060\n",
      "           2       0.93      0.91      0.92      3985\n",
      "           3       0.97      0.87      0.92      3499\n",
      "           4       0.94      0.98      0.96      3939\n",
      "           5       0.91      0.78      0.84      3384\n",
      "\n",
      "   micro avg       0.91      0.91      0.91     23110\n",
      "   macro avg       0.92      0.90      0.91     23110\n",
      "weighted avg       0.91      0.91      0.91     23110\n",
      "\n"
     ]
    }
   ],
   "source": [
    "def show_confusion_matrix(validations, predictions):\n",
    "\n",
    "    matrix = metrics.confusion_matrix(validations, predictions)\n",
    "    plt.figure(figsize=(6, 4))\n",
    "    sns.heatmap(matrix,\n",
    "                cmap='coolwarm',\n",
    "                linecolor='white',\n",
    "                linewidths=1,\n",
    "                xticklabels=LABELS,\n",
    "                yticklabels=LABELS,\n",
    "                annot=True,\n",
    "                fmt='d')\n",
    "    plt.title('Confusion Matrix')\n",
    "    plt.ylabel('True Label')\n",
    "    plt.xlabel('Predicted Label')\n",
    "    plt.show()\n",
    "    \n",
    "# Print confusion matrix (predicted vs. actual)\n",
    "y_pred_test = model_m.predict(x_test)\n",
    "# Take the class with the highest probability from the test predictions\n",
    "max_y_pred_test = np.argmax(y_pred_test, axis=1)\n",
    "max_y_test = np.argmax(y_test, axis=1)\n",
    "\n",
    "show_confusion_matrix(max_y_test, max_y_pred_test)\n",
    "\n",
    "print(classification_report(max_y_test, max_y_pred_test))"
   ]
  },
  {
   "cell_type": "markdown",
   "metadata": {},
   "source": [
    "# SYSTEM DATA(SIMULATION DATA) CLASSIFICATION PREDICTION\n",
    "### 시스템 데이터 분류 예측\n",
    "\n"
   ]
  },
  {
   "cell_type": "code",
   "execution_count": 27,
   "metadata": {},
   "outputs": [],
   "source": [
    "# Read system data from csv file\n",
    "# s14는 shunt loss 파일, g14는 generation_loss 파일\n",
    "s14 = pd.read_csv('/Users/jill/Pictures/data/new_shunt_loss_2cy_13.csv', 'r', delimiter=',', header = None)\n",
    "g14 = pd.read_csv('/Users/jill/Pictures/data/new_gen_loss_2cy_14.csv', 'r', delimiter=',', header = None)\n",
    "\n",
    "# Preprocessing input data\n",
    "def shunt_loss(df):\n",
    "    dff = df.loc[:,1:]\n",
    "    dff = dff.loc[:,:1000]\n",
    "    dff = dff.T\n",
    "    dtt = df.loc[:,1:1000]\n",
    "    dtt = dtt.loc[0:0,:]\n",
    "    dtt = dtt.T\n",
    "    #voltage preprocessing\n",
    "    voltage = dff.loc[:,1].append(dff.loc[:,2])\n",
    "    for i in range(66):\n",
    "        index = i+3\n",
    "        voltage = voltage.append(dff.loc[:,index])\n",
    "    #frequency preprocessing\n",
    "    frequency = dff.loc[:,69].append(dff.loc[:,70])\n",
    "    for i in range(66):\n",
    "        indexx = i+71\n",
    "        frequency = frequency.append(dff.loc[:,indexx])\n",
    "    #timestamp preprocessing\n",
    "    import itertools\n",
    "    timestamp = dtt.append(dtt)\n",
    "    for i in itertools.repeat(None, 66):\n",
    "        timestamp = timestamp.append(dtt)\n",
    "    sumup = pd.concat([timestamp, voltage, frequency], axis = 1)\n",
    "    sumup.columns = ['timestamp', 'voltage', 'frequency']\n",
    "    sumup.insert(1, 'accident', 'shunt_loss')\n",
    "#     sumup.insert(0, 'label', 1)\n",
    "#     sumup.to_csv('/Users/jill/Desktop/testt.csv')\n",
    "    return sumup\n",
    "\n",
    "def gen_loss(df):\n",
    "    dff = df.loc[1:,1:]\n",
    "    dff = dff.loc[:,:1000]\n",
    "    dff = dff.T\n",
    "    dtt = df.loc[:,1:1000]\n",
    "    dtt = dtt.loc[0:0,:]\n",
    "    dtt = dtt.T\n",
    "    #voltage preprocessing\n",
    "    voltage = dff.loc[:,1].append(dff.loc[:,2])\n",
    "    for i in range(66):\n",
    "        index = i+3\n",
    "        voltage = voltage.append(dff.loc[:,index])\n",
    "    #frequency preprocessing\n",
    "    frequency = dff.loc[:,69].append(dff.loc[:,70])\n",
    "    for i in range(66):\n",
    "        indexx = i+71\n",
    "        frequency = frequency.append(dff.loc[:,indexx])\n",
    "    #timestamp preprocessing\n",
    "    import itertools\n",
    "    timestamp = dtt.append(dtt)\n",
    "    for i in itertools.repeat(None, 66):\n",
    "        timestamp = timestamp.append(dtt)\n",
    "    sumup = pd.concat([timestamp, voltage, frequency], axis = 1)\n",
    "    sumup.columns = ['timestamp', 'voltage', 'frequency']\n",
    "    sumup.insert(1, 'accident', 'gen_loss')\n",
    "#     sumup.insert(0, 'label', 1)\n",
    "#     sumup.to_csv('/Users/jill/Desktop/testt.csv')\n",
    "    return sumup"
   ]
  },
  {
   "cell_type": "code",
   "execution_count": 28,
   "metadata": {
    "scrolled": true
   },
   "outputs": [
    {
     "data": {
      "text/html": [
       "<div>\n",
       "<style scoped>\n",
       "    .dataframe tbody tr th:only-of-type {\n",
       "        vertical-align: middle;\n",
       "    }\n",
       "\n",
       "    .dataframe tbody tr th {\n",
       "        vertical-align: top;\n",
       "    }\n",
       "\n",
       "    .dataframe thead th {\n",
       "        text-align: right;\n",
       "    }\n",
       "</style>\n",
       "<table border=\"1\" class=\"dataframe\">\n",
       "  <thead>\n",
       "    <tr style=\"text-align: right;\">\n",
       "      <th></th>\n",
       "      <th>timestamp</th>\n",
       "      <th>accident</th>\n",
       "      <th>voltage</th>\n",
       "      <th>frequency</th>\n",
       "    </tr>\n",
       "  </thead>\n",
       "  <tbody>\n",
       "    <tr>\n",
       "      <th>1</th>\n",
       "      <td>0.0</td>\n",
       "      <td>shunt_loss</td>\n",
       "      <td>1.0</td>\n",
       "      <td>0.0</td>\n",
       "    </tr>\n",
       "    <tr>\n",
       "      <th>2</th>\n",
       "      <td>1.0</td>\n",
       "      <td>shunt_loss</td>\n",
       "      <td>1.0</td>\n",
       "      <td>0.0</td>\n",
       "    </tr>\n",
       "    <tr>\n",
       "      <th>3</th>\n",
       "      <td>2.0</td>\n",
       "      <td>shunt_loss</td>\n",
       "      <td>1.0</td>\n",
       "      <td>0.0</td>\n",
       "    </tr>\n",
       "    <tr>\n",
       "      <th>4</th>\n",
       "      <td>3.0</td>\n",
       "      <td>shunt_loss</td>\n",
       "      <td>1.0</td>\n",
       "      <td>0.0</td>\n",
       "    </tr>\n",
       "    <tr>\n",
       "      <th>5</th>\n",
       "      <td>4.0</td>\n",
       "      <td>shunt_loss</td>\n",
       "      <td>1.0</td>\n",
       "      <td>0.0</td>\n",
       "    </tr>\n",
       "  </tbody>\n",
       "</table>\n",
       "</div>"
      ],
      "text/plain": [
       "   timestamp    accident  voltage  frequency\n",
       "1        0.0  shunt_loss      1.0        0.0\n",
       "2        1.0  shunt_loss      1.0        0.0\n",
       "3        2.0  shunt_loss      1.0        0.0\n",
       "4        3.0  shunt_loss      1.0        0.0\n",
       "5        4.0  shunt_loss      1.0        0.0"
      ]
     },
     "execution_count": 28,
     "metadata": {},
     "output_type": "execute_result"
    }
   ],
   "source": [
    "tt = shunt_loss(s14)\n",
    "tt.head(5)"
   ]
  },
  {
   "cell_type": "code",
   "execution_count": 29,
   "metadata": {},
   "outputs": [
    {
     "data": {
      "text/html": [
       "<div>\n",
       "<style scoped>\n",
       "    .dataframe tbody tr th:only-of-type {\n",
       "        vertical-align: middle;\n",
       "    }\n",
       "\n",
       "    .dataframe tbody tr th {\n",
       "        vertical-align: top;\n",
       "    }\n",
       "\n",
       "    .dataframe thead th {\n",
       "        text-align: right;\n",
       "    }\n",
       "</style>\n",
       "<table border=\"1\" class=\"dataframe\">\n",
       "  <thead>\n",
       "    <tr style=\"text-align: right;\">\n",
       "      <th></th>\n",
       "      <th>timestamp</th>\n",
       "      <th>accident</th>\n",
       "      <th>voltage</th>\n",
       "      <th>frequency</th>\n",
       "    </tr>\n",
       "  </thead>\n",
       "  <tbody>\n",
       "    <tr>\n",
       "      <th>996</th>\n",
       "      <td>995.0</td>\n",
       "      <td>shunt_loss</td>\n",
       "      <td>0.8</td>\n",
       "      <td>-0.0</td>\n",
       "    </tr>\n",
       "    <tr>\n",
       "      <th>997</th>\n",
       "      <td>996.0</td>\n",
       "      <td>shunt_loss</td>\n",
       "      <td>0.8</td>\n",
       "      <td>-0.0</td>\n",
       "    </tr>\n",
       "    <tr>\n",
       "      <th>998</th>\n",
       "      <td>997.0</td>\n",
       "      <td>shunt_loss</td>\n",
       "      <td>0.8</td>\n",
       "      <td>-0.0</td>\n",
       "    </tr>\n",
       "    <tr>\n",
       "      <th>999</th>\n",
       "      <td>998.0</td>\n",
       "      <td>shunt_loss</td>\n",
       "      <td>0.8</td>\n",
       "      <td>-0.0</td>\n",
       "    </tr>\n",
       "    <tr>\n",
       "      <th>1000</th>\n",
       "      <td>999.0</td>\n",
       "      <td>shunt_loss</td>\n",
       "      <td>0.8</td>\n",
       "      <td>-0.0</td>\n",
       "    </tr>\n",
       "  </tbody>\n",
       "</table>\n",
       "</div>"
      ],
      "text/plain": [
       "      timestamp    accident  voltage  frequency\n",
       "996       995.0  shunt_loss      0.8       -0.0\n",
       "997       996.0  shunt_loss      0.8       -0.0\n",
       "998       997.0  shunt_loss      0.8       -0.0\n",
       "999       998.0  shunt_loss      0.8       -0.0\n",
       "1000      999.0  shunt_loss      0.8       -0.0"
      ]
     },
     "execution_count": 29,
     "metadata": {},
     "output_type": "execute_result"
    }
   ],
   "source": [
    "# Normalization using the same process done from the previous one\n",
    "pd.options.mode.chained_assignment = None  # default='warn'\n",
    "# df['voltage'] = df['voltage'] / df['voltage'].max()\n",
    "# df['frequency'] = df['frequency'] / df['frequency'].max()\n",
    "tt['voltage'] = tt['voltage'] / 1.21 \n",
    "tt['frequency'] = tt['frequency'] / 0.01\n",
    "# Round numbers\n",
    "tt = tt.round({'voltage': 4, 'frequency': 4})\n",
    "tt.tail(5)"
   ]
  },
  {
   "cell_type": "code",
   "execution_count": 30,
   "metadata": {},
   "outputs": [
    {
     "name": "stdout",
     "output_type": "stream",
     "text": [
      "4\n",
      "shunt_loss\n",
      "(1, 2000)\n"
     ]
    }
   ],
   "source": [
    "# Create timesegment using the same process done from the previous one\n",
    "N_FEATURES = 2\n",
    "\n",
    "segments = []\n",
    "xs = tt['voltage'].values[:TIME_PERIODS]\n",
    "ys = tt['frequency'].values[:TIME_PERIODS]\n",
    "# Retrieve the most often used label in this segment\n",
    "segments.append([xs, ys])\n",
    "\n",
    "# Bring the segments into a better shape\n",
    "xx_test = np.asarray(segments, dtype= np.float32).reshape(-1, TIME_PERIODS, N_FEATURES)\n",
    "\n",
    "xx_test = xx_test.reshape(xx_test.shape[0], input_shape)\n",
    "\n",
    "xx_test = xx_test.astype('float32')\n",
    "\n",
    "# Reshape\n",
    "test_record = xx_test[0].reshape(1,input_shape)\n",
    "predict = np.argmax(model_m.predict(test_record), axis = 1)\n",
    "# print()\n",
    "\n",
    "# Check classification result\n",
    "print(predict[0])  # Print predicted encoded label value\n",
    "print(le.inverse_transform(predict)[0])  # Print inverse-transformed label value\n",
    "print(xx_test.shape)  # Print shape of predicted segment"
   ]
  },
  {
   "cell_type": "markdown",
   "metadata": {},
   "source": [
    "# PMU DATA CLASSIFICATION PREDICTION\n",
    "### 실 계통 데이터 분류 예측\n",
    "\n",
    "Classification based on the actual PMU data"
   ]
  },
  {
   "cell_type": "code",
   "execution_count": 42,
   "metadata": {},
   "outputs": [
    {
     "data": {
      "text/html": [
       "<div>\n",
       "<style scoped>\n",
       "    .dataframe tbody tr th:only-of-type {\n",
       "        vertical-align: middle;\n",
       "    }\n",
       "\n",
       "    .dataframe tbody tr th {\n",
       "        vertical-align: top;\n",
       "    }\n",
       "\n",
       "    .dataframe thead th {\n",
       "        text-align: right;\n",
       "    }\n",
       "</style>\n",
       "<table border=\"1\" class=\"dataframe\">\n",
       "  <thead>\n",
       "    <tr style=\"text-align: right;\">\n",
       "      <th></th>\n",
       "      <th>timestamp</th>\n",
       "      <th>voltage</th>\n",
       "      <th>frequency</th>\n",
       "    </tr>\n",
       "  </thead>\n",
       "  <tbody>\n",
       "    <tr>\n",
       "      <th>0</th>\n",
       "      <td>2019-06-24 17:05:32.0000000Z</td>\n",
       "      <td>1.0</td>\n",
       "      <td>-0.0</td>\n",
       "    </tr>\n",
       "    <tr>\n",
       "      <th>1</th>\n",
       "      <td>2019-06-24 17:05:32.0166667Z</td>\n",
       "      <td>1.0</td>\n",
       "      <td>-0.0</td>\n",
       "    </tr>\n",
       "    <tr>\n",
       "      <th>2</th>\n",
       "      <td>2019-06-24 17:05:32.0333333Z</td>\n",
       "      <td>1.0</td>\n",
       "      <td>-0.0</td>\n",
       "    </tr>\n",
       "    <tr>\n",
       "      <th>3</th>\n",
       "      <td>2019-06-24 17:05:32.0500000Z</td>\n",
       "      <td>1.0</td>\n",
       "      <td>-0.0</td>\n",
       "    </tr>\n",
       "    <tr>\n",
       "      <th>4</th>\n",
       "      <td>2019-06-24 17:05:32.0666667Z</td>\n",
       "      <td>1.0</td>\n",
       "      <td>-0.0</td>\n",
       "    </tr>\n",
       "    <tr>\n",
       "      <th>5</th>\n",
       "      <td>2019-06-24 17:05:32.0833333Z</td>\n",
       "      <td>1.0</td>\n",
       "      <td>-0.0</td>\n",
       "    </tr>\n",
       "    <tr>\n",
       "      <th>6</th>\n",
       "      <td>2019-06-24 17:05:32.1000000Z</td>\n",
       "      <td>1.0</td>\n",
       "      <td>-0.0</td>\n",
       "    </tr>\n",
       "    <tr>\n",
       "      <th>7</th>\n",
       "      <td>2019-06-24 17:05:32.1166667Z</td>\n",
       "      <td>1.0</td>\n",
       "      <td>-0.0</td>\n",
       "    </tr>\n",
       "    <tr>\n",
       "      <th>8</th>\n",
       "      <td>2019-06-24 17:05:32.1333333Z</td>\n",
       "      <td>1.0</td>\n",
       "      <td>-0.0</td>\n",
       "    </tr>\n",
       "    <tr>\n",
       "      <th>9</th>\n",
       "      <td>2019-06-24 17:05:32.1500000Z</td>\n",
       "      <td>1.0</td>\n",
       "      <td>-0.0</td>\n",
       "    </tr>\n",
       "  </tbody>\n",
       "</table>\n",
       "</div>"
      ],
      "text/plain": [
       "                      timestamp  voltage  frequency\n",
       "0  2019-06-24 17:05:32.0000000Z      1.0       -0.0\n",
       "1  2019-06-24 17:05:32.0166667Z      1.0       -0.0\n",
       "2  2019-06-24 17:05:32.0333333Z      1.0       -0.0\n",
       "3  2019-06-24 17:05:32.0500000Z      1.0       -0.0\n",
       "4  2019-06-24 17:05:32.0666667Z      1.0       -0.0\n",
       "5  2019-06-24 17:05:32.0833333Z      1.0       -0.0\n",
       "6  2019-06-24 17:05:32.1000000Z      1.0       -0.0\n",
       "7  2019-06-24 17:05:32.1166667Z      1.0       -0.0\n",
       "8  2019-06-24 17:05:32.1333333Z      1.0       -0.0\n",
       "9  2019-06-24 17:05:32.1500000Z      1.0       -0.0"
      ]
     },
     "execution_count": 42,
     "metadata": {},
     "output_type": "execute_result"
    }
   ],
   "source": [
    "# Set dataset columns\n",
    "column_name = ['timestamp',\n",
    "                 'voltage',\n",
    "                  'frequency']\n",
    "\n",
    "# Read PMU dataset \n",
    "# MIGEUM_0625.csv = MIGEUM electrical grid accident data on June 25th 2019\n",
    "# MIGEUM_0702.csv = SINSIHEUNG electrical grid accident data on July 2nd 2019\n",
    "# (Refer to the PMU-Pattern-Recognition-CNN-2.ipynb)\n",
    "tt = pd.read_csv('/Users/jill/Desktop/MIGEUM_0625.csv', 'r', delimiter=',', header = None,\n",
    "                                                            names = column_name)\n",
    "\n",
    "migeum = tt  \n",
    "tt.head(10)  # Print first 10 rows"
   ]
  },
  {
   "cell_type": "code",
   "execution_count": 32,
   "metadata": {},
   "outputs": [],
   "source": [
    "# def create_predictions(tt, time_steps, step, label_name):\n",
    "\n",
    "#     # x, y, z acceleration as features\n",
    "#     N_FEATURES = 2\n",
    "#     # Number of steps to advance in each iteration (for me, it should always\n",
    "#     # be equal to the time_steps in order to have no overlap between segments)\n",
    "#     # step = time_steps\n",
    "#     segments = []\n",
    "#     labels = []\n",
    "#     for i in range(0, len(tt) - time_steps, step):\n",
    "#         xs = tt['voltage'].values[i: i + time_steps]\n",
    "#         ys = tt['frequency'].values[i: i + time_steps]\n",
    "#         # Retrieve the most often used label in this segment\n",
    "#         label = stats.mode(tt[label_name][i: i + time_steps])[0][0]\n",
    "#         segments.append([xs, ys])\n",
    "#         labels.append(label)\n",
    "\n",
    "#     # Bring the segments into a better shape\n",
    "#     reshaped_segments = np.asarray(segments, dtype= np.float32).reshape(-1, time_steps, N_FEATURES)\n",
    "#     labels = np.asarray(labels)\n",
    "\n",
    "#     return reshaped_segments, labels"
   ]
  },
  {
   "cell_type": "code",
   "execution_count": 43,
   "metadata": {},
   "outputs": [
    {
     "data": {
      "text/plain": [
       "[u'branch_trip',\n",
       " u'gen_loss',\n",
       " u'line_fault',\n",
       " u'load_loss',\n",
       " u'shunt_loss',\n",
       " u'vref']"
      ]
     },
     "execution_count": 43,
     "metadata": {},
     "output_type": "execute_result"
    }
   ],
   "source": [
    "list(le.classes_)  # Print labels"
   ]
  },
  {
   "cell_type": "code",
   "execution_count": 44,
   "metadata": {},
   "outputs": [
    {
     "data": {
      "text/html": [
       "<div>\n",
       "<style scoped>\n",
       "    .dataframe tbody tr th:only-of-type {\n",
       "        vertical-align: middle;\n",
       "    }\n",
       "\n",
       "    .dataframe tbody tr th {\n",
       "        vertical-align: top;\n",
       "    }\n",
       "\n",
       "    .dataframe thead th {\n",
       "        text-align: right;\n",
       "    }\n",
       "</style>\n",
       "<table border=\"1\" class=\"dataframe\">\n",
       "  <thead>\n",
       "    <tr style=\"text-align: right;\">\n",
       "      <th></th>\n",
       "      <th>timestamp</th>\n",
       "      <th>voltage</th>\n",
       "      <th>frequency</th>\n",
       "    </tr>\n",
       "  </thead>\n",
       "  <tbody>\n",
       "    <tr>\n",
       "      <th>3995</th>\n",
       "      <td>2019-06-24 17:05:48.5833333Z</td>\n",
       "      <td>0.8</td>\n",
       "      <td>0.0</td>\n",
       "    </tr>\n",
       "    <tr>\n",
       "      <th>3996</th>\n",
       "      <td>2019-06-24 17:05:48.6000000Z</td>\n",
       "      <td>0.8</td>\n",
       "      <td>0.0</td>\n",
       "    </tr>\n",
       "    <tr>\n",
       "      <th>3997</th>\n",
       "      <td>2019-06-24 17:05:48.6166667Z</td>\n",
       "      <td>0.8</td>\n",
       "      <td>0.0</td>\n",
       "    </tr>\n",
       "    <tr>\n",
       "      <th>3998</th>\n",
       "      <td>2019-06-24 17:05:48.6333333Z</td>\n",
       "      <td>0.8</td>\n",
       "      <td>0.0</td>\n",
       "    </tr>\n",
       "    <tr>\n",
       "      <th>3999</th>\n",
       "      <td>2019-06-24 17:05:48.6500000Z</td>\n",
       "      <td>0.8</td>\n",
       "      <td>0.0</td>\n",
       "    </tr>\n",
       "  </tbody>\n",
       "</table>\n",
       "</div>"
      ],
      "text/plain": [
       "                         timestamp  voltage  frequency\n",
       "3995  2019-06-24 17:05:48.5833333Z      0.8        0.0\n",
       "3996  2019-06-24 17:05:48.6000000Z      0.8        0.0\n",
       "3997  2019-06-24 17:05:48.6166667Z      0.8        0.0\n",
       "3998  2019-06-24 17:05:48.6333333Z      0.8        0.0\n",
       "3999  2019-06-24 17:05:48.6500000Z      0.8        0.0"
      ]
     },
     "execution_count": 44,
     "metadata": {},
     "output_type": "execute_result"
    }
   ],
   "source": [
    "# Normalization\n",
    "pd.options.mode.chained_assignment = None  # default='warn'\n",
    "# df['voltage'] = df['voltage'] / df['voltage'].max()\n",
    "# df['frequency'] = df['frequency'] / df['frequency'].max()\n",
    "tt['voltage'] = tt['voltage'] / 1.21 \n",
    "tt['frequency'] = tt['frequency'] / 0.01\n",
    "# Round numbers\n",
    "tt = tt.round({'voltage': 4, 'frequency': 4})\n",
    "tt.tail(5)"
   ]
  },
  {
   "cell_type": "code",
   "execution_count": 45,
   "metadata": {},
   "outputs": [
    {
     "data": {
      "text/plain": [
       "array([[0.8502, 0.8502, 0.8502, ..., 0.0072, 0.007 , 0.0068]],\n",
       "      dtype=float32)"
      ]
     },
     "execution_count": 45,
     "metadata": {},
     "output_type": "execute_result"
    }
   ],
   "source": [
    "# Create time segment\n",
    "N_FEATURES = 2\n",
    "\n",
    "segments = []\n",
    "xs = tt['voltage'].values[:TIME_PERIODS]\n",
    "ys = tt['frequency'].values[:TIME_PERIODS]\n",
    "# Retrieve the most often used label in this segment\n",
    "segments.append([xs, ys])\n",
    "\n",
    "# Bring the segments into a better shape\n",
    "xx_test = np.asarray(segments, dtype= np.float32).reshape(-1, TIME_PERIODS, N_FEATURES)\n",
    "\n",
    "xx_test = xx_test.reshape(xx_test.shape[0], input_shape)\n",
    "\n",
    "xx_test = xx_test.astype('float32')\n",
    "\n",
    "xx_test"
   ]
  },
  {
   "cell_type": "code",
   "execution_count": 46,
   "metadata": {
    "scrolled": false
   },
   "outputs": [
    {
     "data": {
      "text/plain": [
       "Text(0,0.5,'frequency')"
      ]
     },
     "execution_count": 46,
     "metadata": {},
     "output_type": "execute_result"
    },
    {
     "data": {
      "text/plain": [
       "<Figure size 432x288 with 0 Axes>"
      ]
     },
     "metadata": {},
     "output_type": "display_data"
    },
    {
     "data": {
      "image/png": "[encoded data removed]",
      "text/plain": [
       "<Figure size 576x216 with 1 Axes>"
      ]
     },
     "metadata": {},
     "output_type": "display_data"
    },
    {
     "data": {
      "image/png": "[encoded data removed]",
      "text/plain": [
       "<Figure size 576x216 with 1 Axes>"
      ]
     },
     "metadata": {},
     "output_type": "display_data"
    }
   ],
   "source": [
    "# PMU data graph visualization\n",
    "plt.figure(1)\n",
    "plt.subplots(figsize=(8, 3))\n",
    "plt.plot(tt['voltage'][:1000], 'g')\n",
    "plt.title('VOLTAGE')\n",
    "plt.xlabel('timestamp')\n",
    "plt.ylabel('voltage')\n",
    "\n",
    "plt.figure(2)\n",
    "plt.subplots(figsize=(8, 3))\n",
    "plt.plot(tt['frequency'][:1000], 'r')\n",
    "plt.title('FREQUENCY')\n",
    "plt.xlabel('timestamp')\n",
    "plt.ylabel('frequency')"
   ]
  },
  {
   "cell_type": "code",
   "execution_count": 47,
   "metadata": {
    "scrolled": false
   },
   "outputs": [
    {
     "name": "stdout",
     "output_type": "stream",
     "text": [
      "2\n",
      "line_fault\n",
      "(1, 2000)\n"
     ]
    }
   ],
   "source": [
    "# Check classification result\n",
    "test_record = xx_test[0].reshape(1,input_shape)\n",
    "predict = np.argmax(model_m.predict(test_record), axis = 1)\n",
    "# print()\n",
    "print(predict[0])  # Print predicted label value\n",
    "print(le.inverse_transform(predict)[0])  # Print predicted inverse-transformed label value\n",
    "print(xx_test.shape)  # Print predicted segment shape\n",
    "\n",
    "# coreml_prediction = coreml_model.predict({'acceleration': test_record.reshape(input_shape)})\n",
    "# print('\\nPrediction from Coreml: ', coreml_prediction[\"classLabel\"])\n",
    "    \n",
    "# print(test_record)\n",
    "# keras_prediction = np.argmax(model_m.predict(test_record), axis=1)\n",
    "# print(le.inverse_transform(keras_prediction)[0])\n",
    "## coreml_prediction = coreml_model.predict({'acceleration': test_record.reshape(input_shape)})\n",
    "#     print(coreml_prediction[\"classLabel\"])\n",
    "## print('\\nPrediction from Coreml: ', coreml_prediction[\"classLabel\"])"
   ]
  },
  {
   "cell_type": "markdown",
   "metadata": {},
   "source": [
    "# SAVE MODEL\n",
    "### 모델 저장"
   ]
  },
  {
   "cell_type": "code",
   "execution_count": 48,
   "metadata": {},
   "outputs": [],
   "source": [
    "model_json = model_m.to_json()\n",
    "with open(\"/Users/jill/Desktop/model_2.json\",\"w\") as json_file :  # Save CNN model (json)\n",
    "    json_file.write(model_json)"
   ]
  },
  {
   "cell_type": "code",
   "execution_count": 49,
   "metadata": {},
   "outputs": [],
   "source": [
    "model_m.save_weights(\"/Users/jill/Desktop/model_2.h5\")  # Save weight file (h5)"
   ]
  },
  {
   "cell_type": "code",
   "execution_count": null,
   "metadata": {},
   "outputs": [],
   "source": []
  }
 ],
 "metadata": {
  "kernelspec": {
   "display_name": "Python 3",
   "language": "python",
   "name": "python3"
  },
  "language_info": {
   "codemirror_mode": {
    "name": "ipython",
    "version": 3
   },
   "file_extension": ".py",
   "mimetype": "text/x-python",
   "name": "python",
   "nbconvert_exporter": "python",
   "pygments_lexer": "ipython3",
   "version": "3.7.4"
  }
 },
 "nbformat": 4,
 "nbformat_minor": 2
}
