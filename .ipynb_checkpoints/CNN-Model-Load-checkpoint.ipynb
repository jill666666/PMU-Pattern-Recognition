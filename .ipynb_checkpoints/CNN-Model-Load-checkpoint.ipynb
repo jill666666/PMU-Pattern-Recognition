{
 "cells": [
  {
   "cell_type": "code",
   "execution_count": 1,
   "metadata": {},
   "outputs": [
    {
     "name": "stderr",
     "output_type": "stream",
     "text": [
      "Using TensorFlow backend.\n"
     ]
    }
   ],
   "source": [
    "from matplotlib import pyplot as plt\n",
    "%matplotlib inline\n",
    "import numpy as np\n",
    "import pandas as pd\n",
    "import seaborn as sns\n",
    "from scipy import stats\n",
    "from IPython.display import display, HTML\n",
    "\n",
    "import pymysql\n",
    "import pymysql.cursors\n",
    "\n",
    "from sklearn import metrics\n",
    "from sklearn.metrics import classification_report\n",
    "from sklearn import preprocessing\n",
    "\n",
    "import keras\n",
    "from keras.models import Sequential\n",
    "from keras.layers import Dense, Dropout, Flatten, Reshape\n",
    "from keras.layers import Conv2D, MaxPooling2D\n",
    "from keras.utils import np_utils\n",
    "\n",
    "import os\n",
    "\n",
    "os.environ['KMP_DUPLICATE_LIB_OK']='True'"
   ]
  },
  {
   "cell_type": "markdown",
   "metadata": {},
   "source": [
    "# LOAD MODEL\n",
    "### 모델 불러오기"
   ]
  },
  {
   "cell_type": "code",
   "execution_count": 2,
   "metadata": {},
   "outputs": [
    {
     "name": "stdout",
     "output_type": "stream",
     "text": [
      "WARNING:tensorflow:From /anaconda3/envs/tensorflow_env/lib/python2.7/site-packages/tensorflow/python/framework/op_def_library.py:263: colocate_with (from tensorflow.python.framework.ops) is deprecated and will be removed in a future version.\n",
      "Instructions for updating:\n",
      "Colocations handled automatically by placer.\n",
      "WARNING:tensorflow:From /anaconda3/envs/tensorflow_env/lib/python2.7/site-packages/keras/backend/tensorflow_backend.py:3445: calling dropout (from tensorflow.python.ops.nn_ops) with keep_prob is deprecated and will be removed in a future version.\n",
      "Instructions for updating:\n",
      "Please use `rate` instead of `keep_prob`. Rate should be set to `rate = 1 - keep_prob`.\n",
      "Loaded model from disk\n"
     ]
    }
   ],
   "source": [
    "from keras.models import model_from_json\n",
    "json_file = open(\"/Users/jill/Desktop/model.json\", \"r\")\n",
    "loaded_model_json = json_file.read()\n",
    "json_file.close()\n",
    "loaded_model = model_from_json(loaded_model_json)\n",
    "loaded_model.load_weights(\"/Users/jill/Desktop/model.h5\")\n",
    "print(\"Loaded model from disk\")"
   ]
  },
  {
   "cell_type": "code",
   "execution_count": 3,
   "metadata": {},
   "outputs": [
    {
     "data": {
      "text/html": [
       "<div>\n",
       "<style scoped>\n",
       "    .dataframe tbody tr th:only-of-type {\n",
       "        vertical-align: middle;\n",
       "    }\n",
       "\n",
       "    .dataframe tbody tr th {\n",
       "        vertical-align: top;\n",
       "    }\n",
       "\n",
       "    .dataframe thead th {\n",
       "        text-align: right;\n",
       "    }\n",
       "</style>\n",
       "<table border=\"1\" class=\"dataframe\">\n",
       "  <thead>\n",
       "    <tr style=\"text-align: right;\">\n",
       "      <th></th>\n",
       "      <th>timestamp</th>\n",
       "      <th>voltage</th>\n",
       "      <th>frequency</th>\n",
       "    </tr>\n",
       "  </thead>\n",
       "  <tbody>\n",
       "    <tr>\n",
       "      <th>0</th>\n",
       "      <td>2019-07-01 21:41:35.0000000Z</td>\n",
       "      <td>1.023172</td>\n",
       "      <td>-0.000093</td>\n",
       "    </tr>\n",
       "    <tr>\n",
       "      <th>1</th>\n",
       "      <td>2019-07-01 21:41:35.0166667Z</td>\n",
       "      <td>1.022989</td>\n",
       "      <td>-0.000093</td>\n",
       "    </tr>\n",
       "    <tr>\n",
       "      <th>2</th>\n",
       "      <td>2019-07-01 21:41:35.0333333Z</td>\n",
       "      <td>1.022695</td>\n",
       "      <td>-0.000095</td>\n",
       "    </tr>\n",
       "    <tr>\n",
       "      <th>3</th>\n",
       "      <td>2019-07-01 21:41:35.0500000Z</td>\n",
       "      <td>1.022517</td>\n",
       "      <td>-0.000098</td>\n",
       "    </tr>\n",
       "    <tr>\n",
       "      <th>4</th>\n",
       "      <td>2019-07-01 21:41:35.0666667Z</td>\n",
       "      <td>1.022576</td>\n",
       "      <td>-0.000102</td>\n",
       "    </tr>\n",
       "    <tr>\n",
       "      <th>5</th>\n",
       "      <td>2019-07-01 21:41:35.0833333Z</td>\n",
       "      <td>1.022809</td>\n",
       "      <td>-0.000105</td>\n",
       "    </tr>\n",
       "    <tr>\n",
       "      <th>6</th>\n",
       "      <td>2019-07-01 21:41:35.1000000Z</td>\n",
       "      <td>1.023056</td>\n",
       "      <td>-0.000105</td>\n",
       "    </tr>\n",
       "    <tr>\n",
       "      <th>7</th>\n",
       "      <td>2019-07-01 21:41:35.1166667Z</td>\n",
       "      <td>1.023183</td>\n",
       "      <td>-0.000103</td>\n",
       "    </tr>\n",
       "    <tr>\n",
       "      <th>8</th>\n",
       "      <td>2019-07-01 21:41:35.1333333Z</td>\n",
       "      <td>1.023167</td>\n",
       "      <td>-0.000102</td>\n",
       "    </tr>\n",
       "    <tr>\n",
       "      <th>9</th>\n",
       "      <td>2019-07-01 21:41:35.1500000Z</td>\n",
       "      <td>1.023018</td>\n",
       "      <td>-0.000103</td>\n",
       "    </tr>\n",
       "  </tbody>\n",
       "</table>\n",
       "</div>"
      ],
      "text/plain": [
       "                      timestamp   voltage  frequency\n",
       "0  2019-07-01 21:41:35.0000000Z  1.023172  -0.000093\n",
       "1  2019-07-01 21:41:35.0166667Z  1.022989  -0.000093\n",
       "2  2019-07-01 21:41:35.0333333Z  1.022695  -0.000095\n",
       "3  2019-07-01 21:41:35.0500000Z  1.022517  -0.000098\n",
       "4  2019-07-01 21:41:35.0666667Z  1.022576  -0.000102\n",
       "5  2019-07-01 21:41:35.0833333Z  1.022809  -0.000105\n",
       "6  2019-07-01 21:41:35.1000000Z  1.023056  -0.000105\n",
       "7  2019-07-01 21:41:35.1166667Z  1.023183  -0.000103\n",
       "8  2019-07-01 21:41:35.1333333Z  1.023167  -0.000102\n",
       "9  2019-07-01 21:41:35.1500000Z  1.023018  -0.000103"
      ]
     },
     "execution_count": 3,
     "metadata": {},
     "output_type": "execute_result"
    }
   ],
   "source": [
    "column_name = ['timestamp',\n",
    "#                'accident',\n",
    "                 'voltage',\n",
    "                  'frequency']\n",
    "\n",
    "\n",
    "tt = pd.read_csv('/Users/jill/Desktop/SINSIHEUNG_0702.csv', 'r', delimiter=',', header = None,\n",
    "                                                            names = column_name)\n",
    "\n",
    "# tt = branch_trip(b1)\n",
    "migeum = tt\n",
    "tt.head(10)"
   ]
  },
  {
   "cell_type": "code",
   "execution_count": 4,
   "metadata": {},
   "outputs": [],
   "source": [
    "def create_predictions(tt, time_steps, step, label_name):\n",
    "\n",
    "    # x, y, z acceleration as features\n",
    "    N_FEATURES = 2\n",
    "    # Number of steps to advance in each iteration (for me, it should always\n",
    "    # be equal to the time_steps in order to have no overlap between segments)\n",
    "    # step = time_steps\n",
    "    segments = []\n",
    "    labels = []\n",
    "    for i in range(0, len(tt) - time_steps, step):\n",
    "        xs = tt['voltage'].values[i: i + time_steps]\n",
    "        ys = tt['frequency'].values[i: i + time_steps]\n",
    "        # Retrieve the most often used label in this segment\n",
    "        label = stats.mode(tt[label_name][i: i + time_steps])[0][0]\n",
    "        segments.append([xs, ys])\n",
    "        labels.append(label)\n",
    "\n",
    "    # Bring the segments into a better shape\n",
    "    reshaped_segments = np.asarray(segments, dtype= np.float32).reshape(-1, time_steps, N_FEATURES)\n",
    "    labels = np.asarray(labels)\n",
    "\n",
    "    return reshaped_segments, labels"
   ]
  },
  {
   "cell_type": "code",
   "execution_count": 5,
   "metadata": {},
   "outputs": [
    {
     "data": {
      "text/html": [
       "<div>\n",
       "<style scoped>\n",
       "    .dataframe tbody tr th:only-of-type {\n",
       "        vertical-align: middle;\n",
       "    }\n",
       "\n",
       "    .dataframe tbody tr th {\n",
       "        vertical-align: top;\n",
       "    }\n",
       "\n",
       "    .dataframe thead th {\n",
       "        text-align: right;\n",
       "    }\n",
       "</style>\n",
       "<table border=\"1\" class=\"dataframe\">\n",
       "  <thead>\n",
       "    <tr style=\"text-align: right;\">\n",
       "      <th></th>\n",
       "      <th>timestamp</th>\n",
       "      <th>voltage</th>\n",
       "      <th>frequency</th>\n",
       "    </tr>\n",
       "  </thead>\n",
       "  <tbody>\n",
       "    <tr>\n",
       "      <th>995</th>\n",
       "      <td>2019-07-01 21:41:49.9833429Z</td>\n",
       "      <td>0.8463</td>\n",
       "      <td>0.0013</td>\n",
       "    </tr>\n",
       "    <tr>\n",
       "      <th>996</th>\n",
       "      <td>2019-07-01 21:41:49.9833430Z</td>\n",
       "      <td>0.8463</td>\n",
       "      <td>0.0013</td>\n",
       "    </tr>\n",
       "    <tr>\n",
       "      <th>997</th>\n",
       "      <td>2019-07-01 21:41:49.9833431Z</td>\n",
       "      <td>0.8463</td>\n",
       "      <td>0.0013</td>\n",
       "    </tr>\n",
       "    <tr>\n",
       "      <th>998</th>\n",
       "      <td>2019-07-01 21:41:49.9833432Z</td>\n",
       "      <td>0.8463</td>\n",
       "      <td>0.0013</td>\n",
       "    </tr>\n",
       "    <tr>\n",
       "      <th>999</th>\n",
       "      <td>2019-07-01 21:41:49.9833433Z</td>\n",
       "      <td>0.8463</td>\n",
       "      <td>0.0013</td>\n",
       "    </tr>\n",
       "  </tbody>\n",
       "</table>\n",
       "</div>"
      ],
      "text/plain": [
       "                        timestamp  voltage  frequency\n",
       "995  2019-07-01 21:41:49.9833429Z   0.8463     0.0013\n",
       "996  2019-07-01 21:41:49.9833430Z   0.8463     0.0013\n",
       "997  2019-07-01 21:41:49.9833431Z   0.8463     0.0013\n",
       "998  2019-07-01 21:41:49.9833432Z   0.8463     0.0013\n",
       "999  2019-07-01 21:41:49.9833433Z   0.8463     0.0013"
      ]
     },
     "execution_count": 5,
     "metadata": {},
     "output_type": "execute_result"
    }
   ],
   "source": [
    "pd.options.mode.chained_assignment = None  # default='warn'\n",
    "# df['voltage'] = df['voltage'] / df['voltage'].max()\n",
    "# df['frequency'] = df['frequency'] / df['frequency'].max()\n",
    "tt['voltage'] = tt['voltage'] / 1.21 \n",
    "tt['frequency'] = tt['frequency'] / 0.01\n",
    "# Round numbers\n",
    "tt = tt.round({'voltage': 4, 'frequency': 4})\n",
    "tt.tail(5)"
   ]
  },
  {
   "cell_type": "code",
   "execution_count": 6,
   "metadata": {},
   "outputs": [
    {
     "data": {
      "text/plain": [
       "array([[0.8456, 0.8454, 0.8452, ..., 0.0013, 0.0013, 0.0013]],\n",
       "      dtype=float32)"
      ]
     },
     "execution_count": 6,
     "metadata": {},
     "output_type": "execute_result"
    }
   ],
   "source": [
    "TIME_PERIODS = 1000\n",
    "input_shape = 2000\n",
    "\n",
    "N_FEATURES = 2\n",
    "\n",
    "segments = []\n",
    "xs = tt['voltage'].values[:TIME_PERIODS]\n",
    "ys = tt['frequency'].values[:TIME_PERIODS]\n",
    "# Retrieve the most often used label in this segment\n",
    "segments.append([xs, ys])\n",
    "\n",
    "# Bring the segments into a better shape\n",
    "xx_test = np.asarray(segments, dtype= np.float32).reshape(-1, TIME_PERIODS, N_FEATURES)\n",
    "\n",
    "xx_test = xx_test.reshape(xx_test.shape[0], input_shape)\n",
    "\n",
    "xx_test = xx_test.astype('float32')\n",
    "\n",
    "xx_test"
   ]
  },
  {
   "cell_type": "code",
   "execution_count": 7,
   "metadata": {},
   "outputs": [
    {
     "data": {
      "text/plain": [
       "array([0, 2, 4, 1, 3, 5])"
      ]
     },
     "execution_count": 7,
     "metadata": {},
     "output_type": "execute_result"
    }
   ],
   "source": [
    "LABEL = 'ActivityEncoded'\n",
    "# Transform the labels from String to Integer via LabelEncoder\n",
    "le = preprocessing.LabelEncoder()\n",
    "# Add a new column to the existing DataFrame with the encoded values\n",
    "\n",
    "le.fit_transform(['branch_trip',\n",
    "            'line_fault',\n",
    "            'shunt_loss',\n",
    "            'gen_loss',\n",
    "            'load_loss',\n",
    "            'vref'])"
   ]
  },
  {
   "cell_type": "code",
   "execution_count": 8,
   "metadata": {},
   "outputs": [
    {
     "name": "stdout",
     "output_type": "stream",
     "text": [
      "['branch_trip', 'gen_loss', 'line_fault', 'load_loss', 'shunt_loss', 'vref']\n"
     ]
    }
   ],
   "source": [
    "print(list(le.classes_))"
   ]
  },
  {
   "cell_type": "code",
   "execution_count": 9,
   "metadata": {},
   "outputs": [
    {
     "name": "stdout",
     "output_type": "stream",
     "text": [
      "0\n",
      "branch_trip\n",
      "(1, 2000)\n"
     ]
    }
   ],
   "source": [
    "test_record = xx_test[0].reshape(1,input_shape)\n",
    "predict = np.argmax(loaded_model.predict(test_record), axis = 1)\n",
    "# print()\n",
    "print(predict[0])\n",
    "print(le.inverse_transform(predict)[0])\n",
    "print(xx_test.shape)"
   ]
  },
  {
   "cell_type": "code",
   "execution_count": 10,
   "metadata": {},
   "outputs": [
    {
     "data": {
      "text/plain": [
       "Text(0,0.5,'frequency')"
      ]
     },
     "execution_count": 10,
     "metadata": {},
     "output_type": "execute_result"
    },
    {
     "data": {
      "text/plain": [
       "<Figure size 432x288 with 0 Axes>"
      ]
     },
     "metadata": {},
     "output_type": "display_data"
    },
    {
     "data": {
      "image/png": "[encoded data removed]",
      "text/plain": [
       "<Figure size 576x216 with 1 Axes>"
      ]
     },
     "metadata": {
      "needs_background": "light"
     },
     "output_type": "display_data"
    },
    {
     "data": {
      "image/png": "[encoded data removed]",
      "text/plain": [
       "<Figure size 576x216 with 1 Axes>"
      ]
     },
     "metadata": {
      "needs_background": "light"
     },
     "output_type": "display_data"
    }
   ],
   "source": [
    "plt.figure(1)\n",
    "plt.subplots(figsize=(8, 3))\n",
    "plt.plot(tt['voltage'][:1000], 'g')\n",
    "plt.title('VOLTAGE')\n",
    "plt.xlabel('timestamp')\n",
    "plt.ylabel('voltage')\n",
    "\n",
    "plt.figure(2)\n",
    "plt.subplots(figsize=(8, 3))\n",
    "plt.plot(tt['frequency'][:1000], 'r')\n",
    "plt.title('FREQUENCY')\n",
    "plt.xlabel('timestamp')\n",
    "plt.ylabel('frequency')"
   ]
  },
  {
   "cell_type": "code",
   "execution_count": null,
   "metadata": {},
   "outputs": [],
   "source": []
  }
 ],
 "metadata": {
  "kernelspec": {
   "display_name": "Python 3",
   "language": "python",
   "name": "python3"
  },
  "language_info": {
   "codemirror_mode": {
    "name": "ipython",
    "version": 3
   },
   "file_extension": ".py",
   "mimetype": "text/x-python",
   "name": "python",
   "nbconvert_exporter": "python",
   "pygments_lexer": "ipython3",
   "version": "3.7.4"
  }
 },
 "nbformat": 4,
 "nbformat_minor": 2
}
